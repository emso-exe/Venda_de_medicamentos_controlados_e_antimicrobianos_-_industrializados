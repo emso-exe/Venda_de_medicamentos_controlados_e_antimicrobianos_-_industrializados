{
 "cells": [
  {
   "cell_type": "markdown",
   "metadata": {},
   "source": [
    "# Análise de Venda de Medicamentos Controlados e Antimicrobianos - Medicamentos Industrializados\n",
    "\n",
    "Projeto de análise de vendas de medicamentos controlados e antimicrobianos exclusivamente industrializados na Região Metropolitana da Baixada Santista (RMBS) composta por nove municípios no litoral do estado de São Paulo, através de dados extraídos do Sistema Nacional de Gerenciamento de Produtos Controlados (SNGPC) e disponibilizados no [portal de dados abertos](https://dados.gov.br/dados/conjuntos-dados/venda-de-medicamentos-controlados-e-antimicrobianos---medicamentos-industrializados) da Agência Nacional de Vigilância Sanitária (Anvisa). Através da análise das informações de vendas, dados geográricos, perfil de pacientes e características de medicamentos, o objetivo é extrair insights de negócios, sugerir soluções aos problemas identificados e apresentar propostas de aprimoramento.\n",
    "\n",
    "## Demanda do negócio\n",
    "\n",
    "- Compreender as tendências, padrões e características das vendas farmacêuticas.\n",
    "- Construção de perfis de pacientes com base nos mendicamentos receitados.\n",
    "- Compreender a demanda de medicamentos com base no perfil dos pacientes, por tempo e por município.\n",
    "- Obter insights, identificar oportunidades e propor soluções a problemas.\n",
    "- Elaboração de painel de informações de medicamentos baseado em filtros.\n",
    "\n",
    "## Compreensão dos dados\n",
    "\n",
    "Os dados que serão utilizados na análise compreendem o período de uma ano, outubro de 2020 até setembro de 2021, que integram um conjunto de doze arquivos em formato \"CSV\". Os dados foram extraídos do Sistema Nacional de Gerenciamento de Produtos Controlados (SNGPC), provenientes apenas de farmácias e drogarias privadas que periodicamente devem enviar os dados a respeito de todas as vendas realizadas de medicamentos sujeitos à escrituração no SNGPC. Os dados foram disponibilizados no [portal de dados abertos](https://dados.gov.br/dados/conjuntos-dados/venda-de-medicamentos-controlados-e-antimicrobianos---medicamentos-industrializados) da Agência Nacional de Vigilância Sanitária (Anvisa).\n",
    "\n",
    "## Tópicos da análise\n",
    "\n",
    "- Construção de perfil de pacientes.\n",
    "- Distribuição de pacientes por área geográfica.\n",
    "- Demanda de medicamentos por paciente.\n",
    "- Demanda de medicamentos por área geográfica.\n",
    "- Demanda de medicamentos durante o ano.\n",
    "\n",
    "\n",
    "\n",
    "\n",
    "\n",
    "\n",
    "-------------------------------------\n"
   ]
  },
  {
   "cell_type": "markdown",
   "metadata": {},
   "source": [
    "## Importação de bibliotecas"
   ]
  },
  {
   "cell_type": "code",
   "execution_count": 1,
   "metadata": {},
   "outputs": [],
   "source": [
    "# Importação de pacotes e definição de parâmetros globais\n",
    "\n",
    "import pandas as pd\n",
    "import numpy as np\n",
    "import matplotlib.pyplot as plt \n",
    "import seaborn as sns\n",
    "import warnings\n",
    "import gc\n",
    "\n",
    "from tabulate import tabulate\n",
    "\n",
    "warnings.filterwarnings('ignore')\n",
    "sns.set_style('darkgrid')\n"
   ]
  },
  {
   "cell_type": "markdown",
   "metadata": {},
   "source": [
    "## Carregamento dos dados"
   ]
  },
  {
   "cell_type": "code",
   "execution_count": null,
   "metadata": {},
   "outputs": [],
   "source": [
    "# Efetuando a limpeza de memória antes do carregamento dos dados\n",
    "gc.collect()\n",
    "\n",
    "# Caminho do arquivo de dados\n",
    "path = 'dados/ABT'\n",
    "\n",
    "# Criando um dataframe a partir dos arquivos no diretório de dados\n"
   ]
  }
 ],
 "metadata": {
  "kernelspec": {
   "display_name": "Python 3",
   "language": "python",
   "name": "python3"
  },
  "language_info": {
   "codemirror_mode": {
    "name": "ipython",
    "version": 3
   },
   "file_extension": ".py",
   "mimetype": "text/x-python",
   "name": "python",
   "nbconvert_exporter": "python",
   "pygments_lexer": "ipython3",
   "version": "3.11.5"
  },
  "orig_nbformat": 4
 },
 "nbformat": 4,
 "nbformat_minor": 2
}
