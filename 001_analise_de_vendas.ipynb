{
 "cells": [
  {
   "cell_type": "markdown",
   "metadata": {},
   "source": [
    "# Análise de Venda de Medicamentos Controlados e Antimicrobianos - Medicamentos Industrializados\n",
    "\n",
    "Projeto de análise de vendas de medicamentos controlados e antimicrobianos exclusivamente industrializados na Região Metropolitana da Baixada Santista (RMBS) composta por nove municípios no litoral do estado de São Paulo, através de dados extraídos do Sistema Nacional de Gerenciamento de Produtos Controlados (SNGPC) e disponibilizados no [portal de dados abertos](https://dados.gov.br/dados/conjuntos-dados/venda-de-medicamentos-controlados-e-antimicrobianos---medicamentos-industrializados) da Agência Nacional de Vigilância Sanitária (Anvisa). Através da análise das informações de vendas, dados geográricos, perfil de pacientes e características de medicamentos, o objetivo é extrair insights de negócios, sugerir soluções aos problemas identificados e apresentar propostas de aprimoramento.\n",
    "\n",
    "## Demanda do negócio\n",
    "\n",
    "- Compreender as tendências, padrões e características das vendas farmacêuticas.\n",
    "- Construção de perfis de pacientes com base nos mendicamentos receitados.\n",
    "- Compreender a demanda de medicamentos com base no perfil dos pacientes, por tempo e por município.\n",
    "- Obter insights, identificar oportunidades e propor soluções a problemas.\n",
    "- Elaboração de painel de informações de medicamentos baseado em filtros.\n",
    "\n",
    "## Compreensão dos dados\n",
    "\n",
    "Os dados que serão utilizados na análise compreendem o período de uma ano, outubro de 2020 até setembro de 2021, que integram um conjunto de doze arquivos em formato \"CSV\". Os dados foram extraídos do Sistema Nacional de Gerenciamento de Produtos Controlados (SNGPC), provenientes apenas de farmácias e drogarias privadas que periodicamente devem enviar os dados a respeito de todas as vendas realizadas de medicamentos sujeitos à escrituração no SNGPC. Os dados foram disponibilizados no [portal de dados abertos](https://dados.gov.br/dados/conjuntos-dados/venda-de-medicamentos-controlados-e-antimicrobianos---medicamentos-industrializados) da Agência Nacional de Vigilância Sanitária (Anvisa).\n",
    "\n",
    "## Tópicos da análise\n",
    "\n",
    "- Construção de perfil de pacientes.\n",
    "- Distribuição de pacientes por município.\n",
    "- Demanda de medicamentos por paciente.\n",
    "- Demanda de medicamentos por município.\n",
    "- Demanda de medicamentos durante o ano.\n",
    "\n",
    "## Dicionário de dados\n",
    "\n",
    "**ANO_VENDA:** Ano da venda do medicamento.<br>\n",
    "**MES_VENDA:** Mês da venda do medicamento.<br>\n",
    "**UF_VENDA:** Unidade Federativa do endereço da farmácia ou drogaria, cadastrado no banco de dados da Anvisa, representando a UF onde ocorreu a venda.<br>\n",
    "**MUNICIPIO_VENDA:** Município do endereço da farmácia ou drogaria, cadastrado no banco de dados da Anvisa, representando o Município onde ocorreu a venda.<br>\n",
    "**PRINCIPIO_ATIVO:** Nome do princípio ativo do medicamento industrializado, conforme cadastrado no registro do medicamento, no banco de dados da Anvisa.<br>Quando um medicamento tem mais de um princípio ativo, cada um deles é separado pelo caractere “+”.<br>Ex.: “PRINCÍPIO ATIVO 1 + PRINCÍPIO ATIVO 2”<br>\n",
    "**DESCRICAO_APRESENTACAO:** Uma Apresentação de Medicamento representa O modo como um medicamento é apresentado na embalagem. Exemplo: Medicamento X, pode ter duas apresentações diferentes:<br>• Apresentação 1:<br>Uma caixa com 1 blister de alumínio com 20 comprimidos, cada comprimido com 5 mg de princípio ativo.<br>Nesse caso, a descrição da apresentação seria:<br>“5 MG COM CT BL AL X 20”<br>• Apresentação 2:<br>Uma caixa com 1 frasco de vidro com 50 mL de um xarope, com concentração do princípio ativo de 15 mg por mL.<br>Nesse caso, a descrição da apresentação seria:<br>15MG/ML XPE CT FR VD x 50 ML<br>Esses exemplos representam descrições de apresentações diferentes para um mesmo medicamento.<br>Os termos utilizados na descrição das apresentações seguem o disposto no Vocabulário Controlado da Anvisa, disponível no link:<br>[http://portal.anvisa.gov.br/documents/33836/2501339/Vocabul%C3%A1rio+Controlado/fd8fdf08-45dc-402a-8dcf-fbb3fd21ca75](http://portal.anvisa.gov.br/documents/33836/2501339/Vocabul%C3%A1rio+Controlado/fd8fdf08-45dc-402a-8dcf-fbb3fd21ca75)<br>\n",
    "**QTD_VENDIDA:** Quantidade vendida de caixas ou frascos do medicamento.<br>\n",
    "**UNIDADE_MEDIDA:** Indica se a quantidade vendida do medicamento foi de caixas ou frascos.<br>\n",
    "**CONSELHO_PRESCRITOR:** Conselho de Classe do profissional que prescreveu o medicamento vendido.<br>\n",
    "**UF_CONSELHO_PRESCRITOR:** Unidade Federativa do Conselho de Classe do profissional que prescreveu o medicamento vendido.<br>\n",
    "**TIPO_RECEITUARIO:** Tipo de receituário utilizado na prescrição.<br>Valores e respectivos tipos de receituário:<br>1 – Receita de Controle Especial em 2 vias (Receita Branca);<br>2 – Notificação de Receita B (Notificação Azul);<br>3 – Notificação de Receita Especial (Notificação Branca);<br>4 – Notificação de Receita A (Notificação Amarela);<br>5 – Receita Antimicrobiano em 2 vias.<br>\n",
    "**CID10:** Classificação Internacional de Doença (aplicável apenas a medicamentos antimicrobianos).<br>\n",
    "**SEXO:** Sexo do paciente (aplicável apenas a medicamentos antimicrobianos).<br>Valor 1 para o sexo masculino, valor 2 para o sexo feminino.<br>\n",
    "**IDADE:** Valor numérico que representa a idade do paciente, em meses ou anos (aplicável apenas a medicamentos antimicrobianos).<br>\n",
    "**UNIDADE_IDADE:** Unidade de medida da idade do paciente, que pode ser em meses ou anos (aplicável apenas a medicamentos antimicrobianos).<br>Valor 1 para unidade de medida em anos, valor 2 para unidade de medida em meses.<br>\n",
    "\n",
    "-------------------------------------\n"
   ]
  },
  {
   "cell_type": "markdown",
   "metadata": {},
   "source": [
    "## Importação de bibliotecas"
   ]
  },
  {
   "cell_type": "code",
   "execution_count": 1,
   "metadata": {},
   "outputs": [],
   "source": [
    "# Importação de pacotes e definição de parâmetros globais\n",
    "\n",
    "import pandas as pd\n",
    "import numpy as np\n",
    "import matplotlib.pyplot as plt \n",
    "import seaborn as sns\n",
    "import warnings\n",
    "import gc\n",
    "\n",
    "from tabulate import tabulate\n",
    "\n",
    "warnings.filterwarnings('ignore')\n",
    "sns.set_style('darkgrid')\n"
   ]
  },
  {
   "cell_type": "markdown",
   "metadata": {},
   "source": [
    "## Carregamento dos dados"
   ]
  },
  {
   "cell_type": "code",
   "execution_count": 2,
   "metadata": {},
   "outputs": [],
   "source": [
    "# Efetuando a limpeza de memória antes do carregamento dos dados\n",
    "gc.collect()\n",
    "\n",
    "# Caminho do arquivo de dados\n",
    "caminho = 'dados/ABT/'\n",
    "\n",
    "# Criando um dataframe a partir dos arquivos no diretório de dados\n",
    "df = pd.read_parquet(caminho)"
   ]
  },
  {
   "cell_type": "markdown",
   "metadata": {},
   "source": [
    "## Detalhes do dataframe"
   ]
  },
  {
   "cell_type": "code",
   "execution_count": 3,
   "metadata": {},
   "outputs": [
    {
     "name": "stdout",
     "output_type": "stream",
     "text": [
      "<class 'pandas.core.frame.DataFrame'>\n",
      "RangeIndex: 748950 entries, 0 to 748949\n",
      "Data columns (total 17 columns):\n",
      " #   Column                  Non-Null Count   Dtype   \n",
      "---  ------                  --------------   -----   \n",
      " 0   ANO_VENDA               748950 non-null  int32   \n",
      " 1   MES_VENDA               748950 non-null  int32   \n",
      " 2   UF_VENDA                748950 non-null  object  \n",
      " 3   MUNICIPIO_VENDA         748950 non-null  object  \n",
      " 4   PRINCIPIO_ATIVO         748539 non-null  object  \n",
      " 5   DESCRICAO_APRESENTACAO  748950 non-null  object  \n",
      " 6   QTD_VENDIDA             748950 non-null  int32   \n",
      " 7   UNIDADE_MEDIDA          748950 non-null  object  \n",
      " 8   CONSELHO_PRESCRITOR     748950 non-null  object  \n",
      " 9   UF_CONSELHO_PRESCRITOR  748950 non-null  object  \n",
      " 10  TIPO_RECEITUARIO        748950 non-null  object  \n",
      " 11  CID10                   49 non-null      object  \n",
      " 12  SEXO                    621913 non-null  float64 \n",
      " 13  IDADE                   621913 non-null  float64 \n",
      " 14  UNIDADE_IDADE           621913 non-null  float64 \n",
      " 15  DATA_PROC               748950 non-null  object  \n",
      " 16  DATA_REF                748950 non-null  category\n",
      "dtypes: category(1), float64(3), int32(3), object(10)\n",
      "memory usage: 517.4 MB\n"
     ]
    }
   ],
   "source": [
    "# Informações do dataframe como nome das colunas, contagem de\n",
    "# de dados, tipo de dados e quantidade de memória utilizada\n",
    "\n",
    "df.info(memory_usage='deep')"
   ]
  },
  {
   "cell_type": "code",
   "execution_count": 4,
   "metadata": {},
   "outputs": [
    {
     "name": "stdout",
     "output_type": "stream",
     "text": [
      "\n",
      "Quantidade de linhas (registros):  748950\n",
      "\n",
      "Quantidade de colunas (variáveis): 17\n"
     ]
    }
   ],
   "source": [
    "print(f'\\nQuantidade de linhas (registros):  {df.shape[0]}')\n",
    "print(f'\\nQuantidade de colunas (variáveis): {df.shape[1]}')"
   ]
  },
  {
   "cell_type": "code",
   "execution_count": 7,
   "metadata": {},
   "outputs": [
    {
     "data": {
      "text/html": [
       "<div>\n",
       "<style scoped>\n",
       "    .dataframe tbody tr th:only-of-type {\n",
       "        vertical-align: middle;\n",
       "    }\n",
       "\n",
       "    .dataframe tbody tr th {\n",
       "        vertical-align: top;\n",
       "    }\n",
       "\n",
       "    .dataframe thead th {\n",
       "        text-align: right;\n",
       "    }\n",
       "</style>\n",
       "<table border=\"1\" class=\"dataframe\">\n",
       "  <thead>\n",
       "    <tr style=\"text-align: right;\">\n",
       "      <th></th>\n",
       "      <th></th>\n",
       "      <th>QTDE</th>\n",
       "      <th>%</th>\n",
       "    </tr>\n",
       "    <tr>\n",
       "      <th>ANO_VENDA</th>\n",
       "      <th>MES_VENDA</th>\n",
       "      <th></th>\n",
       "      <th></th>\n",
       "    </tr>\n",
       "  </thead>\n",
       "  <tbody>\n",
       "    <tr>\n",
       "      <th rowspan=\"3\" valign=\"top\">2020</th>\n",
       "      <th>10</th>\n",
       "      <td>62328</td>\n",
       "      <td>8.322051</td>\n",
       "    </tr>\n",
       "    <tr>\n",
       "      <th>11</th>\n",
       "      <td>63133</td>\n",
       "      <td>8.429535</td>\n",
       "    </tr>\n",
       "    <tr>\n",
       "      <th>12</th>\n",
       "      <td>64110</td>\n",
       "      <td>8.559984</td>\n",
       "    </tr>\n",
       "    <tr>\n",
       "      <th rowspan=\"9\" valign=\"top\">2021</th>\n",
       "      <th>1</th>\n",
       "      <td>67058</td>\n",
       "      <td>8.953602</td>\n",
       "    </tr>\n",
       "    <tr>\n",
       "      <th>2</th>\n",
       "      <td>60822</td>\n",
       "      <td>8.120969</td>\n",
       "    </tr>\n",
       "    <tr>\n",
       "      <th>3</th>\n",
       "      <td>67511</td>\n",
       "      <td>9.014086</td>\n",
       "    </tr>\n",
       "    <tr>\n",
       "      <th>4</th>\n",
       "      <td>57834</td>\n",
       "      <td>7.722011</td>\n",
       "    </tr>\n",
       "    <tr>\n",
       "      <th>5</th>\n",
       "      <td>60691</td>\n",
       "      <td>8.103478</td>\n",
       "    </tr>\n",
       "    <tr>\n",
       "      <th>6</th>\n",
       "      <td>59970</td>\n",
       "      <td>8.007210</td>\n",
       "    </tr>\n",
       "    <tr>\n",
       "      <th>7</th>\n",
       "      <td>61119</td>\n",
       "      <td>8.160625</td>\n",
       "    </tr>\n",
       "    <tr>\n",
       "      <th>8</th>\n",
       "      <td>61453</td>\n",
       "      <td>8.205221</td>\n",
       "    </tr>\n",
       "    <tr>\n",
       "      <th>9</th>\n",
       "      <td>62921</td>\n",
       "      <td>8.401228</td>\n",
       "    </tr>\n",
       "  </tbody>\n",
       "</table>\n",
       "</div>"
      ],
      "text/plain": [
       "                      QTDE         %\n",
       "ANO_VENDA MES_VENDA                 \n",
       "2020      10         62328  8.322051\n",
       "          11         63133  8.429535\n",
       "          12         64110  8.559984\n",
       "2021      1          67058  8.953602\n",
       "          2          60822  8.120969\n",
       "          3          67511  9.014086\n",
       "          4          57834  7.722011\n",
       "          5          60691  8.103478\n",
       "          6          59970  8.007210\n",
       "          7          61119  8.160625\n",
       "          8          61453  8.205221\n",
       "          9          62921  8.401228"
      ]
     },
     "execution_count": 7,
     "metadata": {},
     "output_type": "execute_result"
    }
   ],
   "source": [
    "# Agrupar os dados por ano/mês e exibir a quantidade de registros\n",
    "df_ano_mes = df.groupby(['ANO_VENDA', 'MES_VENDA']).size()\n",
    "df_ano_mes = pd.DataFrame(df_ano_mes)\n",
    "df_ano_mes.rename(columns={0: 'QTDE'}, inplace=True)\n",
    "df_ano_mes['%'] = df_ano_mes['QTDE']/df_ano_mes['QTDE'].sum()*100\n",
    "\n",
    "df_ano_mes\n"
   ]
  }
 ],
 "metadata": {
  "kernelspec": {
   "display_name": "Python 3",
   "language": "python",
   "name": "python3"
  },
  "language_info": {
   "codemirror_mode": {
    "name": "ipython",
    "version": 3
   },
   "file_extension": ".py",
   "mimetype": "text/x-python",
   "name": "python",
   "nbconvert_exporter": "python",
   "pygments_lexer": "ipython3",
   "version": "3.11.5"
  },
  "orig_nbformat": 4
 },
 "nbformat": 4,
 "nbformat_minor": 2
}
