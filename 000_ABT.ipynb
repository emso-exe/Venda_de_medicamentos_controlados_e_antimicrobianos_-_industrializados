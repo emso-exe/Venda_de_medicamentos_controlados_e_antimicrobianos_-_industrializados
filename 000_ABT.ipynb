{
 "cells": [
  {
   "cell_type": "markdown",
   "metadata": {},
   "source": [
    "# Análise de Venda de Medicamentos Controlados e Antimicrobianos - Medicamentos Industrializados\n",
    "\n",
    "Projeto de análise de vendas de medicamentos controlados e antimicrobianos exclusivamente industrializados na Região Metropolitana da Baixada Santista (RMBS) composta por nove municípios no litoral do estado de São Paulo, através de dados extraídos do Sistema Nacional de Gerenciamento de Produtos Controlados (SNGPC) e disponibilizados no [portal de dados abertos](https://dados.gov.br/dados/conjuntos-dados/venda-de-medicamentos-controlados-e-antimicrobianos---medicamentos-industrializados) da Agência Nacional de Vigilância Sanitária (Anvisa). Através da análise das informações de vendas, dados geográricos, perfil de pacientes e características de medicamentos, o objetivo é extrair insights de negócios, sugerir soluções aos problemas identificados e apresentar propostas de aprimoramento.\n",
    "\n",
    "## Demanda do negócio\n",
    "\n",
    "- Compreender as tendências, padrões e características das vendas farmacêuticas.\n",
    "- Construção de perfis de pacientes com base nos mendicamentos receitados.\n",
    "- Compreender a demanda de medicamentos com base no perfil dos pacientes, por tempo e por município.\n",
    "- Obter insights, identificar oportunidades e propor soluções a problemas.\n",
    "- Elaboração de painel de informações de medicamentos baseado em filtros.\n",
    "\n",
    "## Compreensão dos dados\n",
    "\n",
    "Os dados que serão utilizados na análise compreendem o período de uma ano, outubro de 2020 até setembro de 2021, que integram um conjunto de doze arquivos em formato \"CSV\". Os dados foram extraídos do Sistema Nacional de Gerenciamento de Produtos Controlados (SNGPC), provenientes apenas de farmácias e drogarias privadas que periodicamente devem enviar os dados a respeito de todas as vendas realizadas de medicamentos sujeitos à escrituração no SNGPC. Os dados foram disponibilizados no [portal de dados abertos](https://dados.gov.br/dados/conjuntos-dados/venda-de-medicamentos-controlados-e-antimicrobianos---medicamentos-industrializados) da Agência Nacional de Vigilância Sanitária (Anvisa).\n",
    "\n",
    "\n",
    "## Tópico da análise\n",
    "\n",
    "- Construir uma ABT (analytical base table).\n",
    "\n",
    "## Dicionário de dados\n",
    "\n",
    "**ANO_VENDA:** Ano da venda do medicamento.<br>\n",
    "**MES_VENDA:** Mês da venda do medicamento.<br>\n",
    "**UF_VENDA:** Unidade Federativa do endereço da farmácia ou drogaria, cadastrado no banco de dados da Anvisa, representando a UF onde ocorreu a venda.<br>\n",
    "**MUNICIPIO_VENDA:** Município do endereço da farmácia ou drogaria, cadastrado no banco de dados da Anvisa, representando o Município onde ocorreu a venda.<br>\n",
    "**PRINCIPIO_ATIVO:** Nome do princípio ativo do medicamento industrializado, conforme cadastrado no registro do medicamento, no banco de dados da Anvisa.<br>Quando um medicamento tem mais de um princípio ativo, cada um deles é separado pelo caractere “+”.<br>Ex.: “PRINCÍPIO ATIVO 1 + PRINCÍPIO ATIVO 2”<br>\n",
    "**DESCRICAO_APRESENTACAO:** Uma Apresentação de Medicamento representa O modo como um medicamento é apresentado na embalagem. Exemplo: Medicamento X, pode ter duas apresentações diferentes:<br>• Apresentação 1:<br>Uma caixa com 1 blister de alumínio com 20 comprimidos, cada comprimido com 5 mg de princípio ativo.<br>Nesse caso, a descrição da apresentação seria:<br>“5 MG COM CT BL AL X 20”<br>• Apresentação 2:<br>Uma caixa com 1 frasco de vidro com 50 mL de um xarope, com concentração do princípio ativo de 15 mg por mL.<br>Nesse caso, a descrição da apresentação seria:<br>15MG/ML XPE CT FR VD x 50 ML<br>Esses exemplos representam descrições de apresentações diferentes para um mesmo medicamento.<br>Os termos utilizados na descrição das apresentações seguem o disposto no Vocabulário Controlado da Anvisa, disponível no link:<br>[http://portal.anvisa.gov.br/documents/33836/2501339/Vocabul%C3%A1rio+Controlado/fd8fdf08-45dc-402a-8dcf-fbb3fd21ca75](http://portal.anvisa.gov.br/documents/33836/2501339/Vocabul%C3%A1rio+Controlado/fd8fdf08-45dc-402a-8dcf-fbb3fd21ca75)<br>\n",
    "**QTD_VENDIDA:** Quantidade vendida de caixas ou frascos do medicamento.<br>\n",
    "**UNIDADE_MEDIDA:** Indica se a quantidade vendida do medicamento foi de caixas ou frascos.<br>\n",
    "**CONSELHO_PRESCRITOR:** Conselho de Classe do profissional que prescreveu o medicamento vendido.<br>\n",
    "**UF_CONSELHO_PRESCRITOR:** Unidade Federativa do Conselho de Classe do profissional que prescreveu o medicamento vendido.<br>\n",
    "**TIPO_RECEITUARIO:** Tipo de receituário utilizado na prescrição.<br>Valores e respectivos tipos de receituário:<br>1 – Receita de Controle Especial em 2 vias (Receita Branca);<br>2 – Notificação de Receita B (Notificação Azul);<br>3 – Notificação de Receita Especial (Notificação Branca);<br>4 – Notificação de Receita A (Notificação Amarela);<br>5 – Receita Antimicrobiano em 2 vias.<br>\n",
    "**CID10:** Classificação Internacional de Doença (aplicável apenas a medicamentos antimicrobianos).<br>\n",
    "**SEXO:** Sexo do paciente (aplicável apenas a medicamentos antimicrobianos).<br>Valor 1 para o sexo masculino, valor 2 para o sexo feminino.<br>\n",
    "**IDADE:** Valor numérico que representa a idade do paciente, em meses ou anos (aplicável apenas a medicamentos antimicrobianos).<br>\n",
    "**UNIDADE_IDADE:** Unidade de medida da idade do paciente, que pode ser em meses ou anos (aplicável apenas a medicamentos antimicrobianos).<br>Valor 1 para unidade de medida em anos, valor 2 para unidade de medida em meses.<br>\n",
    "\n",
    "-------------------------------------"
   ]
  },
  {
   "cell_type": "markdown",
   "metadata": {},
   "source": [
    "### Importação de bibliotecas"
   ]
  },
  {
   "cell_type": "code",
   "execution_count": 1,
   "metadata": {},
   "outputs": [],
   "source": [
    "from pyspark.sql import SparkSession\n",
    "import glob\n"
   ]
  },
  {
   "cell_type": "markdown",
   "metadata": {},
   "source": [
    "### Criação e iniciação de uma sessão Spark"
   ]
  },
  {
   "cell_type": "code",
   "execution_count": 2,
   "metadata": {},
   "outputs": [
    {
     "data": {
      "text/html": [
       "\n",
       "            <div>\n",
       "                <p><b>SparkSession - in-memory</b></p>\n",
       "                \n",
       "        <div>\n",
       "            <p><b>SparkContext</b></p>\n",
       "\n",
       "            <p><a href=\"http://rootx:4040\">Spark UI</a></p>\n",
       "\n",
       "            <dl>\n",
       "              <dt>Version</dt>\n",
       "                <dd><code>v3.5.0</code></dd>\n",
       "              <dt>Master</dt>\n",
       "                <dd><code>local[*]</code></dd>\n",
       "              <dt>AppName</dt>\n",
       "                <dd><code>PySpark - ABT de Vendas Farmaceuticas</code></dd>\n",
       "            </dl>\n",
       "        </div>\n",
       "        \n",
       "            </div>\n",
       "        "
      ],
      "text/plain": [
       "<pyspark.sql.session.SparkSession at 0x218ab614350>"
      ]
     },
     "execution_count": 2,
     "metadata": {},
     "output_type": "execute_result"
    }
   ],
   "source": [
    "appName = 'PySpark - ABT de Vendas Farmaceuticas'\n",
    "\n",
    "spark = SparkSession.builder \\\n",
    "    .appName(appName) \\\n",
    "    .config('spark.driver.memory', '8g') \\\n",
    "    .config('spark.driver.cores', '2') \\\n",
    "    .config('spark.executor.memory', '8g') \\\n",
    "    .config('spark.executor.cores', '4') \\\n",
    "    .master(\"local[*]\") \\\n",
    "    .getOrCreate()\n",
    "\n",
    "spark.sparkContext.setLogLevel(\"ERROR\")\n",
    "\n",
    "spark\n"
   ]
  },
  {
   "cell_type": "markdown",
   "metadata": {},
   "source": [
    "### Criação do dataset a partir da leitura dos arquivos *.csv"
   ]
  },
  {
   "cell_type": "code",
   "execution_count": 3,
   "metadata": {},
   "outputs": [],
   "source": [
    "# Lista de caminhos para os arquivos CSV\n",
    "caminhos_csv = glob.glob('dados/*.csv')\n",
    "\n",
    "# DataFrame vazio\n",
    "df = None\n",
    "\n",
    "# Loop para ler e unir os arquivos CSV\n",
    "for caminho_csv in caminhos_csv:\n",
    "    df_temp = spark.read.csv(caminho_csv, sep=';', header=True, encoding='cp1252', inferSchema=True)\n",
    "    \n",
    "    if df is None:\n",
    "        df = df_temp\n",
    "    else:\n",
    "        df = df.union(df_temp)\n",
    "\n",
    "# Exibir o esquema do DataFrame combinado\n",
    "df.printSchema()"
   ]
  },
  {
   "cell_type": "code",
   "execution_count": null,
   "metadata": {},
   "outputs": [
    {
     "name": "stdout",
     "output_type": "stream",
     "text": [
      "+---------+---------+--------+---------------+------------------------+---------------------------------------------------------+-----------+--------------+-------------------+----------------------+----------------+-----+----+-----+-------------+\n",
      "|ANO_VENDA|MES_VENDA|UF_VENDA|MUNICIPIO_VENDA|PRINCIPIO_ATIVO         |DESCRICAO_APRESENTACAO                                   |QTD_VENDIDA|UNIDADE_MEDIDA|CONSELHO_PRESCRITOR|UF_CONSELHO_PRESCRITOR|TIPO_RECEITUARIO|CID10|SEXO|IDADE|UNIDADE_IDADE|\n",
      "+---------+---------+--------+---------------+------------------------+---------------------------------------------------------+-----------+--------------+-------------------+----------------------+----------------+-----+----+-----+-------------+\n",
      "|2020     |10       |BA      |JEQUIÉ         |BROMAZEPAM              |6 MG CAP GEL C/ MCGRAN AP CT BL AL PVC ACLAR PL X 30     |3          |FRASCO        |CRM                |BA                    |2               |NULL |NULL|NULL |NULL         |\n",
      "|2020     |10       |BA      |JEQUIÉ         |BROMAZEPAM              |6 MG COM CT BL AL PLAS INC X 30                          |22         |CAIXA         |CRM                |BA                    |2               |NULL |NULL|NULL |NULL         |\n",
      "|2020     |10       |BA      |JEQUIÉ         |BROMAZEPAM              |6 MG COM CT BL AL PLAS INC X 30                          |3          |CAIXA         |RMS                |BA                    |2               |NULL |NULL|NULL |NULL         |\n",
      "|2020     |10       |BA      |JEQUIÉ         |BROMAZEPAM              |6 MG COM CT BL AL PLAS INC X 30                          |1          |FRASCO        |CRM                |BA                    |2               |NULL |NULL|NULL |NULL         |\n",
      "|2020     |10       |BA      |JEQUIÉ         |BROMAZEPAM              |6 MG COM CT BL AL PLAS TRANS X 30                        |24         |CAIXA         |CRM                |BA                    |2               |NULL |NULL|NULL |NULL         |\n",
      "|2020     |10       |BA      |JEQUIÉ         |BROMAZEPAM              |6 MG COM CT BL AL PLAS TRANS X 30                        |228        |FRASCO        |CRM                |BA                    |2               |NULL |NULL|NULL |NULL         |\n",
      "|2020     |10       |BA      |JEQUIÉ         |BROMAZEPAM              |6 MG COM CT BL AL PLAS TRANS X 30                        |2          |FRASCO        |RMS                |BA                    |2               |NULL |NULL|NULL |NULL         |\n",
      "|2020     |10       |BA      |JEQUIÉ         |BROMAZEPAM              |6,0 MG COM CT BL AL PLAS INC X 30                        |2          |FRASCO        |CRM                |BA                    |2               |NULL |NULL|NULL |NULL         |\n",
      "|2020     |10       |BA      |JEQUIÉ         |BROMAZEPAM              |6,0 MG COM CT BL AL PLAS TRANS X 30                      |9          |CAIXA         |CRM                |BA                    |2               |NULL |NULL|NULL |NULL         |\n",
      "|2020     |10       |BA      |JEQUIÉ         |BROMAZEPAM              |6,0 MG COM CT BL AL PLAS TRANS X 30                      |10         |FRASCO        |CRM                |BA                    |2               |NULL |NULL|NULL |NULL         |\n",
      "|2020     |10       |BA      |JEQUIÉ         |BROMAZEPAM + SULPIRIDA  |(1,00+25,00) MG CAP GEL DURA CT BL AL PLAS PVC TRANS X 20|2          |FRASCO        |CRM                |BA                    |2               |NULL |NULL|NULL |NULL         |\n",
      "|2020     |10       |BA      |JEQUIÉ         |BROMAZEPAM + SULPIRIDA  |1 MG + 25 MG CAP GEL DURA CT BL AL PLAS INC X 20         |3          |FRASCO        |CRM                |BA                    |2               |NULL |NULL|NULL |NULL         |\n",
      "|2020     |10       |BA      |JEQUIÉ         |BROMAZEPAM + SULPIRIDA  |1 MG + 25 MG CAP GEL DURA CT BL AL PLAS TRANS X 20       |5          |CAIXA         |CRM                |BA                    |2               |NULL |NULL|NULL |NULL         |\n",
      "|2020     |10       |BA      |JEQUIÉ         |BROMIDRATO DE CITALOPRAM|20 MG COM REV CT BL AL PLAS INC X 28 CALEND              |3          |CAIXA         |CRM                |BA                    |1               |NULL |NULL|NULL |NULL         |\n",
      "|2020     |10       |BA      |JEQUIÉ         |BROMIDRATO DE CITALOPRAM|20 MG COM REV CT BL AL PLAS PVDC OPC X 30                |3          |CAIXA         |CRM                |BA                    |3               |NULL |NULL|NULL |NULL         |\n",
      "+---------+---------+--------+---------------+------------------------+---------------------------------------------------------+-----------+--------------+-------------------+----------------------+----------------+-----+----+-----+-------------+\n",
      "only showing top 15 rows\n",
      "\n"
     ]
    }
   ],
   "source": [
    "# Exibir as 5 primeiras linhas do DataFrame combinado\n",
    "df.show(15, truncate=False)\n"
   ]
  },
  {
   "cell_type": "code",
   "execution_count": null,
   "metadata": {},
   "outputs": [
    {
     "name": "stdout",
     "output_type": "stream",
     "text": [
      "\n",
      "O DataFrame tem 73950048 linhas.\n",
      "\n",
      "O DataFrame tem 15 colunas.\n"
     ]
    }
   ],
   "source": [
    "# Contar o número de linhas no DataFrame\n",
    "qtde_linhas = df.count()\n",
    "print(f'\\nO DataFrame tem {qtde_linhas} linhas.')\n",
    "\n",
    "# Obter o número de colunas no DataFrame\n",
    "qtde_colunas = len(df.columns)\n",
    "print(f'\\nO DataFrame tem {qtde_colunas} colunas.')"
   ]
  },
  {
   "cell_type": "markdown",
   "metadata": {},
   "source": [
    "### Análise dos dados para construção da ABT"
   ]
  },
  {
   "cell_type": "code",
   "execution_count": 6,
   "metadata": {},
   "outputs": [],
   "source": [
    "# Criando uma View temporária para uso do SparkSQL\n",
    "df.createOrReplaceTempView('tb_medicamentos')"
   ]
  },
  {
   "cell_type": "code",
   "execution_count": 7,
   "metadata": {},
   "outputs": [
    {
     "name": "stdout",
     "output_type": "stream",
     "text": [
      "+----------+\n",
      "|QTDE_TOTAL|\n",
      "+----------+\n",
      "|    748950|\n",
      "+----------+\n",
      "\n"
     ]
    }
   ],
   "source": [
    "# Verificando a volume total de registros dos 9 municípios da RMBS\n",
    "qtde_linhas_rmbs = spark.sql('''\n",
    "    SELECT\n",
    "        COUNT(*) AS QTDE_TOTAL\n",
    "    FROM \n",
    "        tb_medicamentos\n",
    "    WHERE\n",
    "        MUNICIPIO_VENDA IN ('BERTIOGA', 'CUBATÃO', 'GUARUJÁ', 'ITANHAÉM', 'MONGAGUÁ', 'PERUÍBE', 'PRAIA GRANDE', 'SANTOS', 'SÃO VICENTE')\n",
    "''')\n",
    "\n",
    "qtde_linhas_rmbs.show()\n"
   ]
  },
  {
   "cell_type": "code",
   "execution_count": 8,
   "metadata": {},
   "outputs": [
    {
     "name": "stdout",
     "output_type": "stream",
     "text": [
      "+---------------+----------+------------------+\n",
      "|MUNICIPIO_VENDA|QTDE_TOTAL|QTDE_TOTAL_PERCENT|\n",
      "+---------------+----------+------------------+\n",
      "|         SANTOS|    214327|            28.617|\n",
      "|   PRAIA GRANDE|    135360|            18.073|\n",
      "|    SÃO VICENTE|    108158|            14.441|\n",
      "|        GUARUJÁ|     94778|            12.655|\n",
      "|        PERUÍBE|     44902|             5.995|\n",
      "|       ITANHAÉM|     42737|             5.706|\n",
      "|        CUBATÃO|     41304|             5.515|\n",
      "|       BERTIOGA|     34645|             4.626|\n",
      "|       MONGAGUÁ|     32739|             4.371|\n",
      "+---------------+----------+------------------+\n",
      "\n"
     ]
    }
   ],
   "source": [
    "# Coletar o resultado da primeira consulta\n",
    "qtde_rmbs = qtde_linhas_rmbs.first()['QTDE_TOTAL']\n",
    "\n",
    "# Verificando a volume total de registros de cada 1 dos 9 municípios da RMBS\n",
    "spark.sql('''\n",
    "    SELECT\n",
    "        MUNICIPIO_VENDA,\n",
    "        COUNT(*) AS QTDE_TOTAL,\n",
    "        ROUND(100*(COUNT(*)/{}), 3) AS QTDE_TOTAL_PERCENT\n",
    "    FROM \n",
    "        tb_medicamentos\n",
    "    WHERE\n",
    "        MUNICIPIO_VENDA IN ('BERTIOGA', 'CUBATÃO', 'GUARUJÁ', 'ITANHAÉM', 'MONGAGUÁ', 'PERUÍBE', 'PRAIA GRANDE', 'SANTOS', 'SÃO VICENTE')\n",
    "    GROUP BY\n",
    "        MUNICIPIO_VENDA\n",
    "    ORDER BY \n",
    "        QTDE_TOTAL DESC\n",
    "'''.format(qtde_rmbs)).show()\n"
   ]
  },
  {
   "cell_type": "code",
   "execution_count": 9,
   "metadata": {},
   "outputs": [
    {
     "name": "stdout",
     "output_type": "stream",
     "text": [
      "+---------+---------+--------+---------------+--------------------------------------------------------+-----------------------------------------------------+-----------+--------------+-------------------+----------------------+----------------+-----+----+-----+-------------+----------+----------+\n",
      "|ANO_VENDA|MES_VENDA|UF_VENDA|MUNICIPIO_VENDA|PRINCIPIO_ATIVO                                         |DESCRICAO_APRESENTACAO                               |QTD_VENDIDA|UNIDADE_MEDIDA|CONSELHO_PRESCRITOR|UF_CONSELHO_PRESCRITOR|TIPO_RECEITUARIO|CID10|SEXO|IDADE|UNIDADE_IDADE|DATA_REF  |DATA_PROC |\n",
      "+---------+---------+--------+---------------+--------------------------------------------------------+-----------------------------------------------------+-----------+--------------+-------------------+----------------------+----------------+-----+----+-----+-------------+----------+----------+\n",
      "|2020     |10       |SP      |MONGAGUÁ       |ACETATO DE PREDNISOLONA + GATIFLOXACINO SESQUI-HIDRATADO|3 MG/ML + 10 MG/ML SUS OFT CT FR GOT PLAS OPC X 3 ML |1          |CAIXA         |CRM                |SP                    |5               |NULL |1   |69.0 |1            |2020-10-01|2023-10-08|\n",
      "|2020     |10       |SP      |MONGAGUÁ       |ACETATO DE PREDNISOLONA + GATIFLOXACINO SESQUI-HIDRATADO|3 MG/ML + 10 MG/ML SUS OFT CT FR GOT PLAS OPC X 3 ML |1          |CAIXA         |CRM                |SP                    |5               |NULL |1   |73.0 |1            |2020-10-01|2023-10-08|\n",
      "|2020     |10       |SP      |MONGAGUÁ       |ACETATO DE PREDNISOLONA + GATIFLOXACINO SESQUI-HIDRATADO|3 MG/ML + 10 MG/ML SUS OFT CT FR GOT PLAS OPC X 3 ML |1          |CAIXA         |CRM                |SP                    |5               |NULL |1   |78.0 |1            |2020-10-01|2023-10-08|\n",
      "|2020     |10       |SP      |MONGAGUÁ       |ACETATO DE PREDNISOLONA + GATIFLOXACINO SESQUI-HIDRATADO|3 MG/ML + 10 MG/ML SUS OFT CT FR GOT PLAS OPC X 3 ML |1          |CAIXA         |CRM                |SP                    |5               |NULL |2   |18.0 |1            |2020-10-01|2023-10-08|\n",
      "|2020     |10       |SP      |MONGAGUÁ       |ACETATO DE PREDNISOLONA + GATIFLOXACINO SESQUI-HIDRATADO|3 MG/ML + 10 MG/ML SUS OFT CT FR GOT PLAS OPC X 3 ML |1          |CAIXA         |CRM                |SP                    |5               |NULL |2   |38.0 |1            |2020-10-01|2023-10-08|\n",
      "|2020     |10       |SP      |MONGAGUÁ       |ACETATO DE PREDNISOLONA + GATIFLOXACINO SESQUI-HIDRATADO|3 MG/ML + 10 MG/ML SUS OFT CT FR GOT PLAS OPC X 3 ML |1          |CAIXA         |CRM                |SP                    |5               |NULL |2   |66.0 |1            |2020-10-01|2023-10-08|\n",
      "|2020     |10       |SP      |MONGAGUÁ       |ACETATO DE PREDNISOLONA + GATIFLOXACINO SESQUI-HIDRATADO|3 MG/ML + 10 MG/ML SUS OFT CT FR GOT PLAS OPC X 3 ML |1          |CAIXA         |CRM                |SP                    |5               |NULL |2   |74.0 |1            |2020-10-01|2023-10-08|\n",
      "|2020     |10       |SP      |MONGAGUÁ       |ACETATO DE PREDNISOLONA + GATIFLOXACINO SESQUI-HIDRATADO|3 MG/ML + 10 MG/ML SUS OFT CT FR GOT PLAS OPC X 3 ML |2          |CAIXA         |CRMV               |SP                    |5               |NULL |NULL|NULL |NULL         |2020-10-01|2023-10-08|\n",
      "|2020     |10       |SP      |MONGAGUÁ       |ACETATO DE PREDNISOLONA + GATIFLOXACINO SESQUI-HIDRATADO|3 MG/ML + 10 MG/ML SUS OFT CT FR GOT PLAS OPC X 3 ML |1          |FRASCO        |CRM                |SP                    |1               |NULL |1   |75.0 |1            |2020-10-01|2023-10-08|\n",
      "|2020     |10       |SP      |MONGAGUÁ       |ACETATO DE PREDNISOLONA + GATIFLOXACINO SESQUI-HIDRATADO|3 MG/ML + 10 MG/ML SUS OFT CT FR GOT PLAS OPC X 3 ML |1          |FRASCO        |CRM                |SP                    |5               |NULL |2   |22.0 |1            |2020-10-01|2023-10-08|\n",
      "|2020     |10       |SP      |MONGAGUÁ       |ACETATO DE PREDNISOLONA + GATIFLOXACINO SESQUI-HIDRATADO|3 MG/ML + 10 MG/ML SUS OFT CT FR GOT PLAS OPC X 3 ML |1          |FRASCO        |CRM                |SP                    |5               |NULL |2   |60.0 |1            |2020-10-01|2023-10-08|\n",
      "|2020     |10       |SP      |MONGAGUÁ       |ACETATO DE PREDNISOLONA + GATIFLOXACINO SESQUI-HIDRATADO|3 MG/ML + 10 MG/ML SUS OFT CT FR GOT PLAS OPC X 3 ML |1          |FRASCO        |CRMV               |SP                    |1               |NULL |NULL|NULL |NULL         |2020-10-01|2023-10-08|\n",
      "|2020     |10       |SP      |MONGAGUÁ       |ACETATO DE PREDNISOLONA + GATIFLOXACINO SESQUI-HIDRATADO|3 MG/ML + 10 MG/ML SUS OFT CT FR GOT PLAS OPC X 6 ML |1          |CAIXA         |CRM                |SP                    |5               |NULL |1   |48.0 |1            |2020-10-01|2023-10-08|\n",
      "|2020     |10       |SP      |MONGAGUÁ       |ACETATO DE PREDNISOLONA + GATIFLOXACINO SESQUI-HIDRATADO|3 MG/ML + 10 MG/ML SUS OFT CT FR GOT PLAS OPC X 6 ML |1          |CAIXA         |CRM                |SP                    |5               |NULL |1   |63.0 |1            |2020-10-01|2023-10-08|\n",
      "|2020     |10       |SP      |MONGAGUÁ       |ACETATO DE PREDNISOLONA + GATIFLOXACINO SESQUI-HIDRATADO|3 MG/ML + 10 MG/ML SUS OFT CT FR GOT PLAS OPC X 6 ML |1          |CAIXA         |CRM                |SP                    |5               |NULL |1   |68.0 |1            |2020-10-01|2023-10-08|\n",
      "|2020     |10       |SP      |MONGAGUÁ       |ACETATO DE PREDNISOLONA + GATIFLOXACINO SESQUI-HIDRATADO|3 MG/ML + 10 MG/ML SUS OFT CT FR GOT PLAS OPC X 6 ML |1          |CAIXA         |CRM                |SP                    |5               |NULL |1   |69.0 |1            |2020-10-01|2023-10-08|\n",
      "|2020     |10       |SP      |MONGAGUÁ       |ACETATO DE PREDNISOLONA + GATIFLOXACINO SESQUI-HIDRATADO|3 MG/ML + 10 MG/ML SUS OFT CT FR GOT PLAS OPC X 6 ML |1          |CAIXA         |CRM                |SP                    |5               |NULL |1   |72.0 |1            |2020-10-01|2023-10-08|\n",
      "|2020     |10       |SP      |MONGAGUÁ       |ACETATO DE PREDNISOLONA + GATIFLOXACINO SESQUI-HIDRATADO|3 MG/ML + 10 MG/ML SUS OFT CT FR GOT PLAS OPC X 6 ML |1          |CAIXA         |CRM                |SP                    |5               |NULL |1   |75.0 |1            |2020-10-01|2023-10-08|\n",
      "|2020     |10       |SP      |MONGAGUÁ       |ACETATO DE PREDNISOLONA + GATIFLOXACINO SESQUI-HIDRATADO|3 MG/ML + 10 MG/ML SUS OFT CT FR GOT PLAS OPC X 6 ML |1          |CAIXA         |CRM                |SP                    |5               |NULL |1   |77.0 |1            |2020-10-01|2023-10-08|\n",
      "|2020     |10       |SP      |MONGAGUÁ       |ACETATO DE PREDNISOLONA + GATIFLOXACINO SESQUI-HIDRATADO|3 MG/ML + 10 MG/ML SUS OFT CT FR GOT PLAS OPC X 6 ML |1          |CAIXA         |CRM                |SP                    |5               |NULL |1   |79.0 |1            |2020-10-01|2023-10-08|\n",
      "+---------+---------+--------+---------------+--------------------------------------------------------+-----------------------------------------------------+-----------+--------------+-------------------+----------------------+----------------+-----+----+-----+-------------+----------+----------+\n",
      "only showing top 20 rows\n",
      "\n"
     ]
    }
   ],
   "source": [
    "# Selecionando os dados que irão compor a ABT\n",
    "abt_rmbs = spark.sql('''\n",
    "    SELECT\n",
    "        ANO_VENDA,\n",
    "        MES_VENDA,\n",
    "        UF_VENDA,\n",
    "        MUNICIPIO_VENDA,\n",
    "        PRINCIPIO_ATIVO,\n",
    "        DESCRICAO_APRESENTACAO,\n",
    "        QTD_VENDIDA,\n",
    "        UNIDADE_MEDIDA,\n",
    "        CONSELHO_PRESCRITOR,\n",
    "        UF_CONSELHO_PRESCRITOR,\n",
    "        TIPO_RECEITUARIO,\n",
    "        CID10,\n",
    "        SEXO,\n",
    "        IDADE,\n",
    "        UNIDADE_IDADE,\n",
    "        TO_DATE(concat(ANO_VENDA, lpad(MES_VENDA, 2, '0'), '01'), 'yyyyMMdd') AS DATA_REF,\n",
    "        CURRENT_DATE AS DATA_PROC \n",
    "    FROM\n",
    "        tb_medicamentos\n",
    "    WHERE\n",
    "        MUNICIPIO_VENDA IN ('BERTIOGA', 'CUBATÃO', 'GUARUJÁ', 'ITANHAÉM', 'MONGAGUÁ', 'PERUÍBE', 'PRAIA GRANDE', 'SANTOS', 'SÃO VICENTE')    \n",
    "''')\n",
    "\n",
    "abt_rmbs.show(truncate=False)"
   ]
  },
  {
   "cell_type": "code",
   "execution_count": 10,
   "metadata": {},
   "outputs": [
    {
     "name": "stdout",
     "output_type": "stream",
     "text": [
      "root\n",
      " |-- ANO_VENDA: integer (nullable = true)\n",
      " |-- MES_VENDA: integer (nullable = true)\n",
      " |-- UF_VENDA: string (nullable = true)\n",
      " |-- MUNICIPIO_VENDA: string (nullable = true)\n",
      " |-- PRINCIPIO_ATIVO: string (nullable = true)\n",
      " |-- DESCRICAO_APRESENTACAO: string (nullable = true)\n",
      " |-- QTD_VENDIDA: integer (nullable = true)\n",
      " |-- UNIDADE_MEDIDA: string (nullable = true)\n",
      " |-- CONSELHO_PRESCRITOR: string (nullable = true)\n",
      " |-- UF_CONSELHO_PRESCRITOR: string (nullable = true)\n",
      " |-- TIPO_RECEITUARIO: decimal(1,0) (nullable = true)\n",
      " |-- CID10: string (nullable = true)\n",
      " |-- SEXO: integer (nullable = true)\n",
      " |-- IDADE: double (nullable = true)\n",
      " |-- UNIDADE_IDADE: integer (nullable = true)\n",
      " |-- DATA_REF: date (nullable = true)\n",
      " |-- DATA_PROC: date (nullable = false)\n",
      "\n"
     ]
    }
   ],
   "source": [
    "# Exibir o esquema da ABT\n",
    "abt_rmbs.printSchema()"
   ]
  },
  {
   "cell_type": "markdown",
   "metadata": {},
   "source": [
    "### Salvando a ABT em formato parquet"
   ]
  },
  {
   "cell_type": "code",
   "execution_count": 11,
   "metadata": {},
   "outputs": [],
   "source": [
    "# Convertendo a ABT (sql) para o formato 'parquet'\n",
    "caminho = 'dados/ABT/'\n",
    "abt_rmbs.write.partitionBy('DATA_REF').parquet(caminho, mode='overwrite')"
   ]
  },
  {
   "cell_type": "code",
   "execution_count": 12,
   "metadata": {},
   "outputs": [
    {
     "name": "stdout",
     "output_type": "stream",
     "text": [
      "\n",
      "A ABT 'parquet' tem 748950 linhas.\n",
      "\n",
      "A ABT 'sql' tem 748950 linhas.\n"
     ]
    }
   ],
   "source": [
    "# Validando a quantidade de linhas\n",
    "read_abt_rmbs = spark.read.format('parquet').load(caminho)\n",
    "\n",
    "print(f'\\nA ABT \\'parquet\\' tem {read_abt_rmbs.count()} linhas.')\n",
    "print(f'\\nA ABT \\'sql\\' tem {qtde_rmbs} linhas.')"
   ]
  }
 ],
 "metadata": {
  "kernelspec": {
   "display_name": "Python 3 (ipykernel)",
   "language": "python",
   "name": "python3"
  },
  "language_info": {
   "codemirror_mode": {
    "name": "ipython",
    "version": 3
   },
   "file_extension": ".py",
   "mimetype": "text/x-python",
   "name": "python",
   "nbconvert_exporter": "python",
   "pygments_lexer": "ipython3",
   "version": "3.11.5"
  }
 },
 "nbformat": 4,
 "nbformat_minor": 4
}
